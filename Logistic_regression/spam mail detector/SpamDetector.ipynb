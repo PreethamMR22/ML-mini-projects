{
 "cells": [
  {
   "cell_type": "code",
   "execution_count": 2,
   "id": "38772485",
   "metadata": {},
   "outputs": [],
   "source": [
    "import numpy as np \n",
    "import pandas as pd\n",
    "from sklearn.metrics import accuracy_score\n",
    "from sklearn.model_selection import train_test_split\n",
    "from sklearn.feature_extraction.text import TfidfVectorizer\n",
    "from sklearn.linear_model import LogisticRegression "
   ]
  },
  {
   "cell_type": "code",
   "execution_count": 3,
   "id": "b0def296",
   "metadata": {},
   "outputs": [
    {
     "data": {
      "text/html": [
       "<div>\n",
       "<style scoped>\n",
       "    .dataframe tbody tr th:only-of-type {\n",
       "        vertical-align: middle;\n",
       "    }\n",
       "\n",
       "    .dataframe tbody tr th {\n",
       "        vertical-align: top;\n",
       "    }\n",
       "\n",
       "    .dataframe thead th {\n",
       "        text-align: right;\n",
       "    }\n",
       "</style>\n",
       "<table border=\"1\" class=\"dataframe\">\n",
       "  <thead>\n",
       "    <tr style=\"text-align: right;\">\n",
       "      <th></th>\n",
       "      <th>Category</th>\n",
       "      <th>Message</th>\n",
       "    </tr>\n",
       "  </thead>\n",
       "  <tbody>\n",
       "    <tr>\n",
       "      <th>0</th>\n",
       "      <td>ham</td>\n",
       "      <td>Go until jurong point, crazy.. Available only ...</td>\n",
       "    </tr>\n",
       "    <tr>\n",
       "      <th>1</th>\n",
       "      <td>ham</td>\n",
       "      <td>Ok lar... Joking wif u oni...</td>\n",
       "    </tr>\n",
       "    <tr>\n",
       "      <th>2</th>\n",
       "      <td>spam</td>\n",
       "      <td>Free entry in 2 a wkly comp to win FA Cup fina...</td>\n",
       "    </tr>\n",
       "    <tr>\n",
       "      <th>3</th>\n",
       "      <td>ham</td>\n",
       "      <td>U dun say so early hor... U c already then say...</td>\n",
       "    </tr>\n",
       "    <tr>\n",
       "      <th>4</th>\n",
       "      <td>ham</td>\n",
       "      <td>Nah I don't think he goes to usf, he lives aro...</td>\n",
       "    </tr>\n",
       "  </tbody>\n",
       "</table>\n",
       "</div>"
      ],
      "text/plain": [
       "  Category                                            Message\n",
       "0      ham  Go until jurong point, crazy.. Available only ...\n",
       "1      ham                      Ok lar... Joking wif u oni...\n",
       "2     spam  Free entry in 2 a wkly comp to win FA Cup fina...\n",
       "3      ham  U dun say so early hor... U c already then say...\n",
       "4      ham  Nah I don't think he goes to usf, he lives aro..."
      ]
     },
     "execution_count": 3,
     "metadata": {},
     "output_type": "execute_result"
    }
   ],
   "source": [
    "\n",
    "raw_mail_data=pd.read_csv('mail_data.csv')\n",
    "raw_mail_data.head()"
   ]
  },
  {
   "cell_type": "code",
   "execution_count": 4,
   "id": "0898ac01",
   "metadata": {},
   "outputs": [
    {
     "data": {
      "text/plain": [
       "Category    0\n",
       "Message     0\n",
       "dtype: int64"
      ]
     },
     "execution_count": 4,
     "metadata": {},
     "output_type": "execute_result"
    }
   ],
   "source": [
    "#replace the null values with null string\n",
    "mail_data= raw_mail_data.where((pd.notnull(raw_mail_data)),'')\n",
    "mail_data.isnull().sum()"
   ]
  },
  {
   "cell_type": "code",
   "execution_count": 5,
   "id": "338f55b9",
   "metadata": {},
   "outputs": [
    {
     "data": {
      "text/plain": [
       "(5572, 2)"
      ]
     },
     "execution_count": 5,
     "metadata": {},
     "output_type": "execute_result"
    }
   ],
   "source": [
    "mail_data.shape"
   ]
  },
  {
   "cell_type": "code",
   "execution_count": 6,
   "id": "75969532",
   "metadata": {},
   "outputs": [],
   "source": [
    "#labeling spam mail as 0 and ham mail as 1:\n",
    "\n",
    "mail_data.loc[mail_data['Category']=='spam','Category',]=0\n",
    "mail_data.loc[mail_data['Category']=='ham','Category',]=1\n"
   ]
  },
  {
   "cell_type": "code",
   "execution_count": 7,
   "id": "6e3bf697",
   "metadata": {},
   "outputs": [],
   "source": [
    "#seperating the values into target and the training values\n",
    "X=mail_data['Message']\n",
    "Y=mail_data['Category']"
   ]
  },
  {
   "cell_type": "code",
   "execution_count": 8,
   "id": "1292328d",
   "metadata": {},
   "outputs": [],
   "source": [
    "#test and train split \n",
    "\n",
    "X_train,X_test,Y_train,Y_test= train_test_split(X,Y,random_state=2,test_size=0.2)"
   ]
  },
  {
   "cell_type": "code",
   "execution_count": 9,
   "id": "c122e5a4",
   "metadata": {},
   "outputs": [
    {
     "data": {
      "text/plain": [
       "((4457,), (1115,), (1115,), (1115,))"
      ]
     },
     "execution_count": 9,
     "metadata": {},
     "output_type": "execute_result"
    }
   ],
   "source": [
    "X_train.shape,X_test.shape, X_test.shape,Y_test.shape"
   ]
  },
  {
   "cell_type": "code",
   "execution_count": 10,
   "id": "c5dd5f3e",
   "metadata": {},
   "outputs": [],
   "source": [
    "#Features extraction step \n",
    "feature_extraction=TfidfVectorizer(min_df=1,stop_words='english',lowercase=True)\n",
    "\n",
    "X_train_features=feature_extraction.fit_transform(X_train)\n",
    "X_test_features=feature_extraction.transform(X_test)\n",
    "\n",
    "#Convert Y_train and Y_test as integers\n",
    "Y_train=Y_train.astype('int')\n",
    "Y_test=Y_test.astype('int')\n"
   ]
  },
  {
   "cell_type": "code",
   "execution_count": 11,
   "id": "96ed132e",
   "metadata": {},
   "outputs": [
    {
     "name": "stdout",
     "output_type": "stream",
     "text": [
      "3890                    Unlimited texts. Limited minutes.\n",
      "5553                          Hahaha..use your brain dear\n",
      "4366    Ujhhhhhhh computer shipped out with address to...\n",
      "3968    YOU HAVE WON! As a valued Vodafone customer ou...\n",
      "3771    Love it! The girls at the office may wonder wh...\n",
      "                              ...                        \n",
      "3335    That's fine, have him give me a call if he kno...\n",
      "1099    NO GIFTS!! You trying to get me to throw mysel...\n",
      "2514    U have won a nokia 6230 plus a free digital ca...\n",
      "3606                      Jordan got voted out last nite!\n",
      "2575    Your next amazing xxx PICSFREE1 video will be ...\n",
      "Name: Message, Length: 4457, dtype: object <Compressed Sparse Row sparse matrix of dtype 'float64'\n",
      "\twith 34768 stored elements and shape (4457, 7458)>\n",
      "  Coords\tValues\n",
      "  (0, 6927)\t0.48935591439341625\n",
      "  (0, 6586)\t0.44333254982109394\n",
      "  (0, 3958)\t0.6161071828926097\n",
      "  (0, 4334)\t0.42941702167641554\n",
      "  (1, 3168)\t0.5869421390016224\n",
      "  (1, 6971)\t0.4281243465155688\n",
      "  (1, 1428)\t0.5869421390016224\n",
      "  (1, 2121)\t0.35736171430221464\n",
      "  (2, 6878)\t0.35749230587184955\n",
      "  (2, 1876)\t0.28751725124107325\n",
      "  (2, 5894)\t0.35749230587184955\n",
      "  (2, 806)\t0.26730249393705324\n",
      "  (2, 5695)\t0.35749230587184955\n",
      "  (2, 4884)\t0.35749230587184955\n",
      "  (2, 3852)\t0.3408491178137899\n",
      "  (2, 7353)\t0.31988118061968496\n",
      "  (2, 5115)\t0.3408491178137899\n",
      "  (3, 1876)\t0.3080768784015236\n",
      "  (3, 7297)\t0.22192369472149484\n",
      "  (3, 7000)\t0.30072945056088285\n",
      "  (3, 7065)\t0.32795623716393424\n",
      "  (3, 2060)\t0.24915048132454623\n",
      "  (3, 5005)\t0.3169028431039865\n",
      "  (3, 7248)\t0.23571908490908416\n",
      "  (3, 300)\t0.2915969875465198\n",
      "  :\t:\n",
      "  (4454, 4627)\t0.3831814754124698\n",
      "  (4454, 311)\t0.19547195974237946\n",
      "  (4454, 5068)\t0.22284357632450164\n",
      "  (4454, 1094)\t0.24862733340971144\n",
      "  (4454, 1575)\t0.20946314330145205\n",
      "  (4454, 666)\t0.28653660324238944\n",
      "  (4454, 2244)\t0.2526916142542512\n",
      "  (4454, 7084)\t0.2689097965804433\n",
      "  (4454, 571)\t0.3005277868014621\n",
      "  (4454, 5077)\t0.3005277868014621\n",
      "  (4454, 297)\t0.3005277868014621\n",
      "  (4455, 3084)\t0.3019392955127119\n",
      "  (4455, 4614)\t0.4677148905542796\n",
      "  (4455, 3701)\t0.546620099025937\n",
      "  (4455, 7075)\t0.6255253074975946\n",
      "  (4456, 6575)\t0.15362974460832007\n",
      "  (4456, 5820)\t0.18767970267638426\n",
      "  (4456, 7376)\t0.20404881687716278\n",
      "  (4456, 7033)\t0.43304344994724825\n",
      "  (4456, 380)\t0.24893867331233713\n",
      "  (4456, 2509)\t0.20620887737471993\n",
      "  (4456, 7032)\t0.2868954144677231\n",
      "  (4456, 909)\t0.26924653489772427\n",
      "  (4456, 5009)\t0.6018082365591317\n",
      "  (4456, 3768)\t0.30090411827956587\n"
     ]
    }
   ],
   "source": [
    "print(X_train,X_train_features)"
   ]
  },
  {
   "cell_type": "markdown",
   "id": "3c5af505",
   "metadata": {},
   "source": [
    "***TRAINING THE MODEL USING LOGISTIC REGRESSION**"
   ]
  },
  {
   "cell_type": "code",
   "execution_count": 12,
   "id": "c4c48bc1",
   "metadata": {},
   "outputs": [],
   "source": [
    "model=LogisticRegression()"
   ]
  },
  {
   "cell_type": "code",
   "execution_count": 13,
   "id": "e452dbb1",
   "metadata": {},
   "outputs": [],
   "source": [
    "history=model.fit(X_train_features,Y_train)"
   ]
  },
  {
   "cell_type": "code",
   "execution_count": 14,
   "id": "d8e8e617",
   "metadata": {},
   "outputs": [
    {
     "name": "stdout",
     "output_type": "stream",
     "text": [
      "the accuracy on the trained data is:0.9685887368184878 \n"
     ]
    }
   ],
   "source": [
    "#evaluating the trained model \n",
    "trained_data_prediction=model.predict(X_train_features)\n",
    "trained_data_accuracy=accuracy_score(Y_train,trained_data_prediction)\n",
    "print(f\"the accuracy on the trained data is:{trained_data_accuracy} \")"
   ]
  },
  {
   "cell_type": "code",
   "execution_count": 15,
   "id": "8fb83fae",
   "metadata": {},
   "outputs": [
    {
     "name": "stdout",
     "output_type": "stream",
     "text": [
      "the accuracy on the trained data is:0.9533632286995516 \n"
     ]
    }
   ],
   "source": [
    "#evaluating the trained model \n",
    "trained_data_prediction=model.predict(X_test_features)\n",
    "trained_data_accuracy=accuracy_score(Y_test,trained_data_prediction)\n",
    "print(f\"the accuracy on the trained data is:{trained_data_accuracy} \")"
   ]
  },
  {
   "cell_type": "markdown",
   "id": "8eae2071",
   "metadata": {},
   "source": [
    "Building a predictive system"
   ]
  },
  {
   "cell_type": "code",
   "execution_count": 21,
   "id": "f0cab32f",
   "metadata": {},
   "outputs": [
    {
     "name": "stdout",
     "output_type": "stream",
     "text": [
      "[0]\n",
      "Spam mail, Be careful\n"
     ]
    }
   ],
   "source": [
    "input_mail=[\"You have been selected as the lucky winner of  in our annual lottery draw. To claim your prize, \"]\n",
    "input_mail_features=feature_extraction.transform(input_mail)\n",
    "\n",
    "#making prediction\n",
    "prediction=model.predict(input_mail_features)\n",
    "print(prediction)\n",
    "\n",
    "if prediction[0]:\n",
    "    print(\"Ham mail, dont worry\")\n",
    "else :\n",
    "    print(\"Spam mail, Be careful\")"
   ]
  },
  {
   "cell_type": "code",
   "execution_count": null,
   "id": "459166e7",
   "metadata": {},
   "outputs": [],
   "source": []
  }
 ],
 "metadata": {
  "kernelspec": {
   "display_name": "Python 3",
   "language": "python",
   "name": "python3"
  },
  "language_info": {
   "codemirror_mode": {
    "name": "ipython",
    "version": 3
   },
   "file_extension": ".py",
   "mimetype": "text/x-python",
   "name": "python",
   "nbconvert_exporter": "python",
   "pygments_lexer": "ipython3",
   "version": "3.13.6"
  }
 },
 "nbformat": 4,
 "nbformat_minor": 5
}
